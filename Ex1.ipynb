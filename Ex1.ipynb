{
 "cells": [
  {
   "cell_type": "markdown",
   "metadata": {
    "id": "gkjYMF3lBbF_"
   },
   "source": [
    "<h2>Ex1 - Ciência de Dados SCC-5948</h2>\n",
    "\n",
    "\n",
    "<strong>Nro do grupo:</strong> 7 <br/>\n",
    "\n",
    "<strong>Alunos:</strong><br/>\n",
    "<div style=\"padding-left: 35px;\">\n",
    "Aline Moaraes - 6791710 <br/>\n",
    "Bruno Barella - 12494345 <br/>\n",
    "Diogo Godoi - 11936471 <br/>\n",
    "Luiz Ribeiro - 5967710 <br/>\n",
    "</div>\n",
    "\n",
    "\n",
    "\n"
   ]
  },
  {
   "cell_type": "markdown",
   "metadata": {
    "toc": true
   },
   "source": [
    "<h1>Conteúdo<span class=\"tocSkip\"></span></h1>\n",
    "<div class=\"toc\"><ul class=\"toc-item\"><li><span><a href=\"#Ex1---Ciência-de-Dados-SCC-5948\" data-toc-modified-id=\"Ex1---Ciência-de-Dados-SCC-5948-1\">Ex1 - Ciência de Dados SCC-5948</a></span><ul class=\"toc-item\"><li><span><a href=\"#Dados-multidimensionais\" data-toc-modified-id=\"Dados-multidimensionais-1.1\">Dados multidimensionais</a></span><ul class=\"toc-item\"><li><span><a href=\"#1.-Importe-as-bibliotecas-Numpy-e-Pandas-e-carregue-o-conjunto-de-dados-Iris\" data-toc-modified-id=\"1.-Importe-as-bibliotecas-Numpy-e-Pandas-e-carregue-o-conjunto-de-dados-Iris-1.1.1\">1. Importe as bibliotecas Numpy e Pandas e carregue o conjunto de dados Iris</a></span><ul class=\"toc-item\"><li><span><a href=\"#Sobre-o-Iris-\" data-toc-modified-id=\"Sobre-o-Iris--1.1.1.1\"><a href=\"https://pt.wikipedia.org/wiki/Conjunto_de_dados_flor_Iris\" target=\"_blank\">Sobre o Iris </a></a></span></li></ul></li><li><span><a href=\"#2.-Coloque-nomes-nas-colunas-do-DataFrame-de-acordo-com-a-descrição-acima\" data-toc-modified-id=\"2.-Coloque-nomes-nas-colunas-do-DataFrame-de-acordo-com-a-descrição-acima-1.1.2\">2. Coloque nomes nas colunas do DataFrame de acordo com a descrição acima</a></span></li><li><span><a href=\"#3.-Usando-Pandas,-gere-um-histograma-dos-valores-para-cada-um-dos-atributos-(colunas)\" data-toc-modified-id=\"3.-Usando-Pandas,-gere-um-histograma-dos-valores-para-cada-um-dos-atributos-(colunas)-1.1.3\">3. Usando Pandas, gere um histograma dos valores para cada um dos atributos (colunas)</a></span></li><li><span><a href=\"#4.-Mostre-o-histograma-para-cada-classe-de-um-atributo-(recebido-por-parâmetro)\" data-toc-modified-id=\"4.-Mostre-o-histograma-para-cada-classe-de-um-atributo-(recebido-por-parâmetro)-1.1.4\">4. Mostre o histograma para cada classe de um atributo (recebido por parâmetro)</a></span></li><li><span><a href=\"#5.-Todas-as-medições-foram-feitas-em-cm,-crie-uma-nova-coluna-para-cada-atributo-com-seus-valores-em-milímetros\" data-toc-modified-id=\"5.-Todas-as-medições-foram-feitas-em-cm,-crie-uma-nova-coluna-para-cada-atributo-com-seus-valores-em-milímetros-1.1.5\">5. Todas as medições foram feitas em cm, crie uma nova coluna para cada atributo com seus valores em milímetros</a></span></li><li><span><a href=\"#6.--Conte-o-número-de-amostras-por-classe,-retorne-uma-lista-com-3-elementos-com-a-contagem-de-cada-classe\" data-toc-modified-id=\"6.--Conte-o-número-de-amostras-por-classe,-retorne-uma-lista-com-3-elementos-com-a-contagem-de-cada-classe-1.1.6\">6.  Conte o número de amostras por classe, retorne uma lista com 3 elementos com a contagem de cada classe</a></span></li><li><span><a href=\"#7.-Dado-um-atributo,-printe-qual-classe-possui-o-maior-e-menor-valor.-Exemplo-(não-necessáriamente-correto):-&quot;A-classe-Iris-Setosa-possui-a-menor-medição-de-largura-de-sépala.&quot;\" data-toc-modified-id=\"7.-Dado-um-atributo,-printe-qual-classe-possui-o-maior-e-menor-valor.-Exemplo-(não-necessáriamente-correto):-&quot;A-classe-Iris-Setosa-possui-a-menor-medição-de-largura-de-sépala.&quot;-1.1.7\">7. Dado um atributo, printe qual classe possui o maior e menor valor. Exemplo (não necessáriamente correto): \"A classe Iris-Setosa possui a menor medição de largura de sépala.\"</a></span></li></ul></li></ul></li></ul></div>"
   ]
  },
  {
   "cell_type": "markdown",
   "metadata": {
    "id": "1M7Xvyh0p8f5"
   },
   "source": [
    "### Dados multidimensionais\n",
    "\n",
    "#### 1. Importe as bibliotecas Numpy e Pandas e carregue o conjunto de dados Iris\n",
    "\n"
   ]
  },
  {
   "cell_type": "code",
   "execution_count": 1,
   "metadata": {
    "id": "_2XBWWKfp8DD"
   },
   "outputs": [],
   "source": [
    "# Imports\n",
    "import numpy as np\n",
    "import pandas as pd\n",
    "import matplotlib.pyplot as plt"
   ]
  },
  {
   "cell_type": "code",
   "execution_count": 2,
   "metadata": {
    "id": "y6xkLXiNqU9I"
   },
   "outputs": [
    {
     "data": {
      "text/html": [
       "<div>\n",
       "<style scoped>\n",
       "    .dataframe tbody tr th:only-of-type {\n",
       "        vertical-align: middle;\n",
       "    }\n",
       "\n",
       "    .dataframe tbody tr th {\n",
       "        vertical-align: top;\n",
       "    }\n",
       "\n",
       "    .dataframe thead th {\n",
       "        text-align: right;\n",
       "    }\n",
       "</style>\n",
       "<table border=\"1\" class=\"dataframe\">\n",
       "  <thead>\n",
       "    <tr style=\"text-align: right;\">\n",
       "      <th></th>\n",
       "      <th>0</th>\n",
       "      <th>1</th>\n",
       "      <th>2</th>\n",
       "      <th>3</th>\n",
       "    </tr>\n",
       "  </thead>\n",
       "  <tbody>\n",
       "    <tr>\n",
       "      <th>0</th>\n",
       "      <td>5.1</td>\n",
       "      <td>3.5</td>\n",
       "      <td>1.4</td>\n",
       "      <td>0.2</td>\n",
       "    </tr>\n",
       "    <tr>\n",
       "      <th>1</th>\n",
       "      <td>4.9</td>\n",
       "      <td>3.0</td>\n",
       "      <td>1.4</td>\n",
       "      <td>0.2</td>\n",
       "    </tr>\n",
       "    <tr>\n",
       "      <th>2</th>\n",
       "      <td>4.7</td>\n",
       "      <td>3.2</td>\n",
       "      <td>1.3</td>\n",
       "      <td>0.2</td>\n",
       "    </tr>\n",
       "    <tr>\n",
       "      <th>3</th>\n",
       "      <td>4.6</td>\n",
       "      <td>3.1</td>\n",
       "      <td>1.5</td>\n",
       "      <td>0.2</td>\n",
       "    </tr>\n",
       "    <tr>\n",
       "      <th>4</th>\n",
       "      <td>5.0</td>\n",
       "      <td>3.6</td>\n",
       "      <td>1.4</td>\n",
       "      <td>0.2</td>\n",
       "    </tr>\n",
       "  </tbody>\n",
       "</table>\n",
       "</div>"
      ],
      "text/plain": [
       "     0    1    2    3\n",
       "0  5.1  3.5  1.4  0.2\n",
       "1  4.9  3.0  1.4  0.2\n",
       "2  4.7  3.2  1.3  0.2\n",
       "3  4.6  3.1  1.5  0.2\n",
       "4  5.0  3.6  1.4  0.2"
      ]
     },
     "execution_count": 2,
     "metadata": {},
     "output_type": "execute_result"
    }
   ],
   "source": [
    "# Carregando base de dados\n",
    "from sklearn.datasets import load_iris\n",
    "iris = load_iris()\n",
    "data = pd.DataFrame(iris.data)\n",
    "data.head()"
   ]
  },
  {
   "cell_type": "code",
   "execution_count": 3,
   "metadata": {},
   "outputs": [
    {
     "data": {
      "text/html": [
       "<div>\n",
       "<style scoped>\n",
       "    .dataframe tbody tr th:only-of-type {\n",
       "        vertical-align: middle;\n",
       "    }\n",
       "\n",
       "    .dataframe tbody tr th {\n",
       "        vertical-align: top;\n",
       "    }\n",
       "\n",
       "    .dataframe thead th {\n",
       "        text-align: right;\n",
       "    }\n",
       "</style>\n",
       "<table border=\"1\" class=\"dataframe\">\n",
       "  <thead>\n",
       "    <tr style=\"text-align: right;\">\n",
       "      <th></th>\n",
       "      <th>0</th>\n",
       "      <th>1</th>\n",
       "      <th>2</th>\n",
       "      <th>3</th>\n",
       "      <th>4</th>\n",
       "    </tr>\n",
       "  </thead>\n",
       "  <tbody>\n",
       "    <tr>\n",
       "      <th>0</th>\n",
       "      <td>5.1</td>\n",
       "      <td>3.5</td>\n",
       "      <td>1.4</td>\n",
       "      <td>0.2</td>\n",
       "      <td>0</td>\n",
       "    </tr>\n",
       "    <tr>\n",
       "      <th>1</th>\n",
       "      <td>4.9</td>\n",
       "      <td>3.0</td>\n",
       "      <td>1.4</td>\n",
       "      <td>0.2</td>\n",
       "      <td>0</td>\n",
       "    </tr>\n",
       "    <tr>\n",
       "      <th>2</th>\n",
       "      <td>4.7</td>\n",
       "      <td>3.2</td>\n",
       "      <td>1.3</td>\n",
       "      <td>0.2</td>\n",
       "      <td>0</td>\n",
       "    </tr>\n",
       "    <tr>\n",
       "      <th>3</th>\n",
       "      <td>4.6</td>\n",
       "      <td>3.1</td>\n",
       "      <td>1.5</td>\n",
       "      <td>0.2</td>\n",
       "      <td>0</td>\n",
       "    </tr>\n",
       "    <tr>\n",
       "      <th>4</th>\n",
       "      <td>5.0</td>\n",
       "      <td>3.6</td>\n",
       "      <td>1.4</td>\n",
       "      <td>0.2</td>\n",
       "      <td>0</td>\n",
       "    </tr>\n",
       "  </tbody>\n",
       "</table>\n",
       "</div>"
      ],
      "text/plain": [
       "     0    1    2    3  4\n",
       "0  5.1  3.5  1.4  0.2  0\n",
       "1  4.9  3.0  1.4  0.2  0\n",
       "2  4.7  3.2  1.3  0.2  0\n",
       "3  4.6  3.1  1.5  0.2  0\n",
       "4  5.0  3.6  1.4  0.2  0"
      ]
     },
     "execution_count": 3,
     "metadata": {},
     "output_type": "execute_result"
    }
   ],
   "source": [
    "data[4] = pd.DataFrame(iris.target)\n",
    "data.head()"
   ]
  },
  {
   "cell_type": "markdown",
   "metadata": {
    "id": "FpaB6u7dqXa5"
   },
   "source": [
    "##### [Sobre o Iris ](https://pt.wikipedia.org/wiki/Conjunto_de_dados_flor_Iris)\n",
    "O conjunto de dados consiste em amostras de três espécies de flores Iris ( Iris setosa, Iris virginica e Iris versicolor). Quatro atributos foram medidos em cada amostra: o comprimento e a largura das sépalas e pétalas, em centímetros.\n",
    "\n",
    "A estrutura das variáveis no arquivo é:\n",
    "\n",
    "1. comprimento sépala em cm\n",
    "2. largura sépala em cm\n",
    "3. comprimento da pétala em cm\n",
    "4. largura da pétala em cm\n",
    "5. classe:\n",
    "  - Iris Setosa\n",
    "  - Iris Versicolour\n",
    "  - Iris Virginica"
   ]
  },
  {
   "cell_type": "markdown",
   "metadata": {
    "id": "1B9BsWhIsmgg"
   },
   "source": [
    "#### 2. Coloque nomes nas colunas do DataFrame de acordo com a descrição acima"
   ]
  },
  {
   "cell_type": "code",
   "execution_count": 4,
   "metadata": {
    "id": "v0d7ac3QsvBh"
   },
   "outputs": [
    {
     "data": {
      "text/html": [
       "<div>\n",
       "<style scoped>\n",
       "    .dataframe tbody tr th:only-of-type {\n",
       "        vertical-align: middle;\n",
       "    }\n",
       "\n",
       "    .dataframe tbody tr th {\n",
       "        vertical-align: top;\n",
       "    }\n",
       "\n",
       "    .dataframe thead th {\n",
       "        text-align: right;\n",
       "    }\n",
       "</style>\n",
       "<table border=\"1\" class=\"dataframe\">\n",
       "  <thead>\n",
       "    <tr style=\"text-align: right;\">\n",
       "      <th></th>\n",
       "      <th>CSepala</th>\n",
       "      <th>LSepala</th>\n",
       "      <th>CPetala</th>\n",
       "      <th>LPetala</th>\n",
       "      <th>Classe</th>\n",
       "    </tr>\n",
       "  </thead>\n",
       "  <tbody>\n",
       "    <tr>\n",
       "      <th>0</th>\n",
       "      <td>5.1</td>\n",
       "      <td>3.5</td>\n",
       "      <td>1.4</td>\n",
       "      <td>0.2</td>\n",
       "      <td>Iris Setosa</td>\n",
       "    </tr>\n",
       "    <tr>\n",
       "      <th>1</th>\n",
       "      <td>4.9</td>\n",
       "      <td>3.0</td>\n",
       "      <td>1.4</td>\n",
       "      <td>0.2</td>\n",
       "      <td>Iris Setosa</td>\n",
       "    </tr>\n",
       "    <tr>\n",
       "      <th>2</th>\n",
       "      <td>4.7</td>\n",
       "      <td>3.2</td>\n",
       "      <td>1.3</td>\n",
       "      <td>0.2</td>\n",
       "      <td>Iris Setosa</td>\n",
       "    </tr>\n",
       "    <tr>\n",
       "      <th>3</th>\n",
       "      <td>4.6</td>\n",
       "      <td>3.1</td>\n",
       "      <td>1.5</td>\n",
       "      <td>0.2</td>\n",
       "      <td>Iris Setosa</td>\n",
       "    </tr>\n",
       "    <tr>\n",
       "      <th>4</th>\n",
       "      <td>5.0</td>\n",
       "      <td>3.6</td>\n",
       "      <td>1.4</td>\n",
       "      <td>0.2</td>\n",
       "      <td>Iris Setosa</td>\n",
       "    </tr>\n",
       "    <tr>\n",
       "      <th>...</th>\n",
       "      <td>...</td>\n",
       "      <td>...</td>\n",
       "      <td>...</td>\n",
       "      <td>...</td>\n",
       "      <td>...</td>\n",
       "    </tr>\n",
       "    <tr>\n",
       "      <th>145</th>\n",
       "      <td>6.7</td>\n",
       "      <td>3.0</td>\n",
       "      <td>5.2</td>\n",
       "      <td>2.3</td>\n",
       "      <td>Iris Virginica</td>\n",
       "    </tr>\n",
       "    <tr>\n",
       "      <th>146</th>\n",
       "      <td>6.3</td>\n",
       "      <td>2.5</td>\n",
       "      <td>5.0</td>\n",
       "      <td>1.9</td>\n",
       "      <td>Iris Virginica</td>\n",
       "    </tr>\n",
       "    <tr>\n",
       "      <th>147</th>\n",
       "      <td>6.5</td>\n",
       "      <td>3.0</td>\n",
       "      <td>5.2</td>\n",
       "      <td>2.0</td>\n",
       "      <td>Iris Virginica</td>\n",
       "    </tr>\n",
       "    <tr>\n",
       "      <th>148</th>\n",
       "      <td>6.2</td>\n",
       "      <td>3.4</td>\n",
       "      <td>5.4</td>\n",
       "      <td>2.3</td>\n",
       "      <td>Iris Virginica</td>\n",
       "    </tr>\n",
       "    <tr>\n",
       "      <th>149</th>\n",
       "      <td>5.9</td>\n",
       "      <td>3.0</td>\n",
       "      <td>5.1</td>\n",
       "      <td>1.8</td>\n",
       "      <td>Iris Virginica</td>\n",
       "    </tr>\n",
       "  </tbody>\n",
       "</table>\n",
       "<p>150 rows × 5 columns</p>\n",
       "</div>"
      ],
      "text/plain": [
       "     CSepala  LSepala  CPetala  LPetala          Classe\n",
       "0        5.1      3.5      1.4      0.2     Iris Setosa\n",
       "1        4.9      3.0      1.4      0.2     Iris Setosa\n",
       "2        4.7      3.2      1.3      0.2     Iris Setosa\n",
       "3        4.6      3.1      1.5      0.2     Iris Setosa\n",
       "4        5.0      3.6      1.4      0.2     Iris Setosa\n",
       "..       ...      ...      ...      ...             ...\n",
       "145      6.7      3.0      5.2      2.3  Iris Virginica\n",
       "146      6.3      2.5      5.0      1.9  Iris Virginica\n",
       "147      6.5      3.0      5.2      2.0  Iris Virginica\n",
       "148      6.2      3.4      5.4      2.3  Iris Virginica\n",
       "149      5.9      3.0      5.1      1.8  Iris Virginica\n",
       "\n",
       "[150 rows x 5 columns]"
      ]
     },
     "execution_count": 4,
     "metadata": {},
     "output_type": "execute_result"
    }
   ],
   "source": [
    "def add_column_names(df):\n",
    "    df.columns = [\"CSepala\", \"LSepala\", \"CPetala\", \"LPetala\", \"Classe\"]\n",
    "    df[\"Classe\"] = df[\"Classe\"].replace(\n",
    "        [0, 1, 2], [\"Iris Setosa\", \"Iris Versicolour\", \"Iris Virginica\"])\n",
    "    df_with_names = df\n",
    "    return df_with_names\n",
    "\n",
    "\n",
    "add_column_names(data)"
   ]
  },
  {
   "cell_type": "markdown",
   "metadata": {
    "id": "PRwETVrfs9BP"
   },
   "source": [
    "#### 3. Usando Pandas, gere um histograma dos valores para cada um dos atributos (colunas)\n",
    "\n"
   ]
  },
  {
   "cell_type": "code",
   "execution_count": 5,
   "metadata": {
    "id": "5ZVDuAEptBK2"
   },
   "outputs": [
    {
     "data": {
      "image/png": "[encoded data removed]",
      "text/plain": [
       "<Figure size 864x576 with 4 Axes>"
      ]
     },
     "metadata": {
      "needs_background": "light"
     },
     "output_type": "display_data"
    }
   ],
   "source": [
    "def show_histograms(df):\n",
    "    df.hist(grid=False, figsize=(12,8), color='#86bf91', rwidth=0.9)\n",
    "    pass\n",
    "\n",
    "show_histograms(data)"
   ]
  },
  {
   "cell_type": "markdown",
   "metadata": {
    "id": "iV2FT2mKrTxL"
   },
   "source": [
    "#### 4. Mostre o histograma para cada classe de um atributo (recebido por parâmetro)\n",
    "\n",
    "---\n",
    "\n",
    "\n",
    "\n"
   ]
  },
  {
   "cell_type": "code",
   "execution_count": 6,
   "metadata": {
    "id": "KL2WGIfJtIO4"
   },
   "outputs": [
    {
     "data": {
      "image/png": "[encoded data removed]",
      "text/plain": [
       "<Figure size 1080x360 with 3 Axes>"
      ]
     },
     "metadata": {
      "needs_background": "light"
     },
     "output_type": "display_data"
    },
    {
     "data": {
      "image/png": "[encoded data removed]",
      "text/plain": [
       "<Figure size 1080x360 with 3 Axes>"
      ]
     },
     "metadata": {
      "needs_background": "light"
     },
     "output_type": "display_data"
    },
    {
     "data": {
      "image/png": "[encoded data removed]",
      "text/plain": [
       "<Figure size 1080x360 with 3 Axes>"
      ]
     },
     "metadata": {
      "needs_background": "light"
     },
     "output_type": "display_data"
    },
    {
     "data": {
      "image/png": "[encoded data removed]",
      "text/plain": [
       "<Figure size 1080x360 with 3 Axes>"
      ]
     },
     "metadata": {
      "needs_background": "light"
     },
     "output_type": "display_data"
    }
   ],
   "source": [
    "def show_histogram_per_class(df, attr_name):\n",
    "    ax = df.hist(column=attr_name, by='Classe', grid=False, layout=(1,3), color=['#5C68D7'], figsize=(15,5), rwidth=0.95, legend=True)\n",
    "   \n",
    "    for x in ax:\n",
    "        x.set_xlabel('Comprimento ' + col[1:] if col[0] == 'C' else 'Largura ' + col[1:], labelpad=20, weight='bold', size=11)       \n",
    "        x.set_ylabel(\"Quantidade\", labelpad=5, size=11)\n",
    "    pass\n",
    "\n",
    "for col in data.columns[:4]:    \n",
    "    show_histogram_per_class(data, col)"
   ]
  },
  {
   "cell_type": "markdown",
   "metadata": {
    "id": "X_bHuB2GtnKE"
   },
   "source": [
    "#### 5. Todas as medições foram feitas em cm, crie uma nova coluna para cada atributo com seus valores em milímetros"
   ]
  },
  {
   "cell_type": "code",
   "execution_count": 7,
   "metadata": {
    "id": "2-5ZxotvtmX8"
   },
   "outputs": [
    {
     "data": {
      "text/html": [
       "<div>\n",
       "<style scoped>\n",
       "    .dataframe tbody tr th:only-of-type {\n",
       "        vertical-align: middle;\n",
       "    }\n",
       "\n",
       "    .dataframe tbody tr th {\n",
       "        vertical-align: top;\n",
       "    }\n",
       "\n",
       "    .dataframe thead th {\n",
       "        text-align: right;\n",
       "    }\n",
       "</style>\n",
       "<table border=\"1\" class=\"dataframe\">\n",
       "  <thead>\n",
       "    <tr style=\"text-align: right;\">\n",
       "      <th></th>\n",
       "      <th>CSepala_mm</th>\n",
       "      <th>LSepala_mm</th>\n",
       "      <th>CPetala_mm</th>\n",
       "      <th>LPetala_mm</th>\n",
       "      <th>CSepala_cm</th>\n",
       "      <th>LSepala_cm</th>\n",
       "      <th>CPetala_cm</th>\n",
       "      <th>LPetala_cm</th>\n",
       "      <th>Classe</th>\n",
       "    </tr>\n",
       "  </thead>\n",
       "  <tbody>\n",
       "    <tr>\n",
       "      <th>0</th>\n",
       "      <td>51.0</td>\n",
       "      <td>35.0</td>\n",
       "      <td>14.0</td>\n",
       "      <td>2.0</td>\n",
       "      <td>5.1</td>\n",
       "      <td>3.5</td>\n",
       "      <td>1.4</td>\n",
       "      <td>0.2</td>\n",
       "      <td>Iris Setosa</td>\n",
       "    </tr>\n",
       "    <tr>\n",
       "      <th>1</th>\n",
       "      <td>49.0</td>\n",
       "      <td>30.0</td>\n",
       "      <td>14.0</td>\n",
       "      <td>2.0</td>\n",
       "      <td>4.9</td>\n",
       "      <td>3.0</td>\n",
       "      <td>1.4</td>\n",
       "      <td>0.2</td>\n",
       "      <td>Iris Setosa</td>\n",
       "    </tr>\n",
       "    <tr>\n",
       "      <th>2</th>\n",
       "      <td>47.0</td>\n",
       "      <td>32.0</td>\n",
       "      <td>13.0</td>\n",
       "      <td>2.0</td>\n",
       "      <td>4.7</td>\n",
       "      <td>3.2</td>\n",
       "      <td>1.3</td>\n",
       "      <td>0.2</td>\n",
       "      <td>Iris Setosa</td>\n",
       "    </tr>\n",
       "    <tr>\n",
       "      <th>3</th>\n",
       "      <td>46.0</td>\n",
       "      <td>31.0</td>\n",
       "      <td>15.0</td>\n",
       "      <td>2.0</td>\n",
       "      <td>4.6</td>\n",
       "      <td>3.1</td>\n",
       "      <td>1.5</td>\n",
       "      <td>0.2</td>\n",
       "      <td>Iris Setosa</td>\n",
       "    </tr>\n",
       "    <tr>\n",
       "      <th>4</th>\n",
       "      <td>50.0</td>\n",
       "      <td>36.0</td>\n",
       "      <td>14.0</td>\n",
       "      <td>2.0</td>\n",
       "      <td>5.0</td>\n",
       "      <td>3.6</td>\n",
       "      <td>1.4</td>\n",
       "      <td>0.2</td>\n",
       "      <td>Iris Setosa</td>\n",
       "    </tr>\n",
       "    <tr>\n",
       "      <th>...</th>\n",
       "      <td>...</td>\n",
       "      <td>...</td>\n",
       "      <td>...</td>\n",
       "      <td>...</td>\n",
       "      <td>...</td>\n",
       "      <td>...</td>\n",
       "      <td>...</td>\n",
       "      <td>...</td>\n",
       "      <td>...</td>\n",
       "    </tr>\n",
       "    <tr>\n",
       "      <th>145</th>\n",
       "      <td>67.0</td>\n",
       "      <td>30.0</td>\n",
       "      <td>52.0</td>\n",
       "      <td>23.0</td>\n",
       "      <td>6.7</td>\n",
       "      <td>3.0</td>\n",
       "      <td>5.2</td>\n",
       "      <td>2.3</td>\n",
       "      <td>Iris Virginica</td>\n",
       "    </tr>\n",
       "    <tr>\n",
       "      <th>146</th>\n",
       "      <td>63.0</td>\n",
       "      <td>25.0</td>\n",
       "      <td>50.0</td>\n",
       "      <td>19.0</td>\n",
       "      <td>6.3</td>\n",
       "      <td>2.5</td>\n",
       "      <td>5.0</td>\n",
       "      <td>1.9</td>\n",
       "      <td>Iris Virginica</td>\n",
       "    </tr>\n",
       "    <tr>\n",
       "      <th>147</th>\n",
       "      <td>65.0</td>\n",
       "      <td>30.0</td>\n",
       "      <td>52.0</td>\n",
       "      <td>20.0</td>\n",
       "      <td>6.5</td>\n",
       "      <td>3.0</td>\n",
       "      <td>5.2</td>\n",
       "      <td>2.0</td>\n",
       "      <td>Iris Virginica</td>\n",
       "    </tr>\n",
       "    <tr>\n",
       "      <th>148</th>\n",
       "      <td>62.0</td>\n",
       "      <td>34.0</td>\n",
       "      <td>54.0</td>\n",
       "      <td>23.0</td>\n",
       "      <td>6.2</td>\n",
       "      <td>3.4</td>\n",
       "      <td>5.4</td>\n",
       "      <td>2.3</td>\n",
       "      <td>Iris Virginica</td>\n",
       "    </tr>\n",
       "    <tr>\n",
       "      <th>149</th>\n",
       "      <td>59.0</td>\n",
       "      <td>30.0</td>\n",
       "      <td>51.0</td>\n",
       "      <td>18.0</td>\n",
       "      <td>5.9</td>\n",
       "      <td>3.0</td>\n",
       "      <td>5.1</td>\n",
       "      <td>1.8</td>\n",
       "      <td>Iris Virginica</td>\n",
       "    </tr>\n",
       "  </tbody>\n",
       "</table>\n",
       "<p>150 rows × 9 columns</p>\n",
       "</div>"
      ],
      "text/plain": [
       "     CSepala_mm  LSepala_mm  CPetala_mm  LPetala_mm  CSepala_cm  LSepala_cm  \\\n",
       "0          51.0        35.0        14.0         2.0         5.1         3.5   \n",
       "1          49.0        30.0        14.0         2.0         4.9         3.0   \n",
       "2          47.0        32.0        13.0         2.0         4.7         3.2   \n",
       "3          46.0        31.0        15.0         2.0         4.6         3.1   \n",
       "4          50.0        36.0        14.0         2.0         5.0         3.6   \n",
       "..          ...         ...         ...         ...         ...         ...   \n",
       "145        67.0        30.0        52.0        23.0         6.7         3.0   \n",
       "146        63.0        25.0        50.0        19.0         6.3         2.5   \n",
       "147        65.0        30.0        52.0        20.0         6.5         3.0   \n",
       "148        62.0        34.0        54.0        23.0         6.2         3.4   \n",
       "149        59.0        30.0        51.0        18.0         5.9         3.0   \n",
       "\n",
       "     CPetala_cm  LPetala_cm          Classe  \n",
       "0           1.4         0.2     Iris Setosa  \n",
       "1           1.4         0.2     Iris Setosa  \n",
       "2           1.3         0.2     Iris Setosa  \n",
       "3           1.5         0.2     Iris Setosa  \n",
       "4           1.4         0.2     Iris Setosa  \n",
       "..          ...         ...             ...  \n",
       "145         5.2         2.3  Iris Virginica  \n",
       "146         5.0         1.9  Iris Virginica  \n",
       "147         5.2         2.0  Iris Virginica  \n",
       "148         5.4         2.3  Iris Virginica  \n",
       "149         5.1         1.8  Iris Virginica  \n",
       "\n",
       "[150 rows x 9 columns]"
      ]
     },
     "execution_count": 7,
     "metadata": {},
     "output_type": "execute_result"
    }
   ],
   "source": [
    "def add_mm_cols(df):\n",
    "    df_with_mm = df.iloc[:, :4].apply(lambda p: p*10)\n",
    "    df_with_mm = df_with_mm.join(df, lsuffix='_mm', rsuffix='_cm', how='left')\n",
    "\n",
    "    return df_with_mm\n",
    "\n",
    "add_mm_cols(data)"
   ]
  },
  {
   "cell_type": "markdown",
   "metadata": {
    "id": "7OpjoytyuHxJ"
   },
   "source": [
    "#### 6.  Conte o número de amostras por classe, retorne uma lista com 3 elementos com a contagem de cada classe\n"
   ]
  },
  {
   "cell_type": "code",
   "execution_count": 8,
   "metadata": {
    "id": "bcRCORe_uUpt"
   },
   "outputs": [
    {
     "data": {
      "text/plain": [
       "[('Iris Versicolour', 50), ('Iris Setosa', 50), ('Iris Virginica', 50)]"
      ]
     },
     "execution_count": 8,
     "metadata": {},
     "output_type": "execute_result"
    }
   ],
   "source": [
    "def count_samples_per_class(df):\n",
    "    a_dict = df['Classe'].value_counts().to_dict()\n",
    "    return list(a_dict.items()) \n",
    "\n",
    "count_samples_per_class(data)"
   ]
  },
  {
   "cell_type": "markdown",
   "metadata": {
    "id": "_jBX26yTut9N"
   },
   "source": [
    "#### 7. Dado um atributo, printe qual classe possui o maior e menor valor. Exemplo (não necessáriamente correto): \"A classe Iris-Setosa possui a menor medição de largura de sépala.\""
   ]
  },
  {
   "cell_type": "code",
   "execution_count": 9,
   "metadata": {},
   "outputs": [
    {
     "name": "stdout",
     "output_type": "stream",
     "text": [
      "Para o comprimento de Sepala a classe Iris Setosa possui a menor medição com 4.3 cm e a classe Iris Virginica possui maior medição com 7.9 cm  \n",
      "\n",
      "Para a largura de Sepala a classe Iris Versicolour possui a menor medição com 2.0 cm e a classe Iris Setosa possui maior medição com 4.4 cm  \n",
      "\n",
      "Para o comprimento de Petala a classe Iris Setosa possui a menor medição com 1.0 cm e a classe Iris Virginica possui maior medição com 6.9 cm  \n",
      "\n",
      "Para a largura de Petala a classe Iris Setosa possui a menor medição com 0.1 cm e a classe Iris Virginica possui maior medição com 2.5 cm  \n",
      "\n"
     ]
    }
   ],
   "source": [
    "def min_max(data, col):\n",
    "    d = data.groupby('Classe')[col].agg(['min', 'max']).to_dict()\n",
    "    d_min = min(d['min'], key=d['min'].get)\n",
    "    d_max = max(d['max'], key=d['max'].get)\n",
    "    attr = 'o comprimento de ' + col[1:] if col[0] == 'C' else 'a largura de ' + col[1:]\n",
    "    print(\"Para {} a classe {} possui a menor medição com {} cm e a classe {} possui maior medição com {} cm  \\n\"\n",
    "          .format(attr, d_min, d['min'][d_min], d_max, d['max'][d_max]))\n",
    "\n",
    "\n",
    "for col in data.columns[:4]:    \n",
    "    min_max(data, col)\n"
   ]
  }
 ],
 "metadata": {
  "colab": {
   "collapsed_sections": [],
   "name": "Ex1.ipynb",
   "provenance": [
    {
     "file_id": "10fUzoZeTHoh6mJLSjcB9VfF1egAITKYQ",
     "timestamp": 1588941004379
    }
   ]
  },
  "kernelspec": {
   "display_name": "Python 3",
   "language": "python",
   "name": "python3"
  },
  "language_info": {
   "codemirror_mode": {
    "name": "ipython",
    "version": 3
   },
   "file_extension": ".py",
   "mimetype": "text/x-python",
   "name": "python",
   "nbconvert_exporter": "python",
   "pygments_lexer": "ipython3",
   "version": "3.7.9"
  },
  "metadata": {
   "interpreter": {
    "hash": "916dbcbb3f70747c44a77c7bcd40155683ae19c65e1c03b4aa3499c5328201f1"
   }
  },
  "toc": {
   "base_numbering": 1,
   "nav_menu": {},
   "number_sections": false,
   "sideBar": true,
   "skip_h1_title": true,
   "title_cell": "Conteúdo",
   "title_sidebar": "Contents",
   "toc_cell": true,
   "toc_position": {
    "height": "calc(100% - 180px)",
    "left": "10px",
    "top": "150px",
    "width": "358.25px"
   },
   "toc_section_display": true,
   "toc_window_display": true
  },
  "varInspector": {
   "cols": {
    "lenName": 16,
    "lenType": 16,
    "lenVar": 40
   },
   "kernels_config": {
    "python": {
     "delete_cmd_postfix": "",
     "delete_cmd_prefix": "del ",
     "library": "var_list.py",
     "varRefreshCmd": "print(var_dic_list())"
    },
    "r": {
     "delete_cmd_postfix": ") ",
     "delete_cmd_prefix": "rm(",
     "library": "var_list.r",
     "varRefreshCmd": "cat(var_dic_list()) "
    }
   },
   "types_to_exclude": [
    "module",
    "function",
    "builtin_function_or_method",
    "instance",
    "_Feature"
   ],
   "window_display": false
  }
 },
 "nbformat": 4,
 "nbformat_minor": 1
}
